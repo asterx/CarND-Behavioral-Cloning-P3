{
 "cells": [
  {
   "cell_type": "markdown",
   "metadata": {},
   "source": [
    "# Self-Driving Car Engineer Nanodegree\n",
    "\n",
    "## Deep Learning\n",
    "\n",
    "## Project: Behaviorial Cloning Project"
   ]
  },
  {
   "cell_type": "code",
   "execution_count": 1,
   "metadata": {
    "scrolled": true
   },
   "outputs": [
    {
     "name": "stderr",
     "output_type": "stream",
     "text": [
      "Using TensorFlow backend.\n"
     ]
    },
    {
     "name": "stdout",
     "output_type": "stream",
     "text": [
      "Initial data; train: 13594, validate: 3399\n",
      "Epoch 1/20\n",
      "13594/13594 [==============================] - 237s - loss: 0.1660 - val_loss: 0.1167\n",
      "Epoch 2/20\n",
      "13594/13594 [==============================] - 331s - loss: 0.1307 - val_loss: 0.1084\n",
      "Epoch 3/20\n",
      "13594/13594 [==============================] - 234s - loss: 0.1226 - val_loss: 0.1030\n",
      "Epoch 4/20\n",
      "13594/13594 [==============================] - 231s - loss: 0.1176 - val_loss: 0.1056\n",
      "Epoch 5/20\n",
      "13594/13594 [==============================] - 231s - loss: 0.1148 - val_loss: 0.0970\n",
      "Epoch 6/20\n",
      "13594/13594 [==============================] - 229s - loss: 0.1101 - val_loss: 0.0951\n",
      "Epoch 7/20\n",
      "13594/13594 [==============================] - 239s - loss: 0.1087 - val_loss: 0.0915\n",
      "Epoch 8/20\n",
      "13594/13594 [==============================] - 224s - loss: 0.1048 - val_loss: 0.0900\n",
      "Epoch 9/20\n",
      "13594/13594 [==============================] - 225s - loss: 0.1054 - val_loss: 0.0935\n",
      "Epoch 10/20\n",
      "13594/13594 [==============================] - 229s - loss: 0.1023 - val_loss: 0.0905\n",
      "Epoch 11/20\n",
      "13594/13594 [==============================] - 232s - loss: 0.0998 - val_loss: 0.0902\n",
      "Epoch 12/20\n",
      "13594/13594 [==============================] - 232s - loss: 0.0985 - val_loss: 0.0868\n",
      "Epoch 13/20\n",
      "13594/13594 [==============================] - 246s - loss: 0.0972 - val_loss: 0.0862\n",
      "Epoch 14/20\n",
      "13594/13594 [==============================] - 212s - loss: 0.0950 - val_loss: 0.0881\n",
      "Epoch 15/20\n",
      "13594/13594 [==============================] - 220s - loss: 0.0955 - val_loss: 0.0877\n",
      "Epoch 16/20\n",
      "13594/13594 [==============================] - 240s - loss: 0.0947 - val_loss: 0.0809\n",
      "Epoch 17/20\n",
      "13594/13594 [==============================] - 234s - loss: 0.0919 - val_loss: 0.0838\n",
      "Epoch 18/20\n",
      "13594/13594 [==============================] - 201s - loss: 0.0915 - val_loss: 0.0814\n",
      "Epoch 19/20\n",
      "13594/13594 [==============================] - 227s - loss: 0.0917 - val_loss: 0.0830\n",
      "Epoch 20/20\n",
      "13594/13594 [==============================] - 201s - loss: 0.0886 - val_loss: 0.0821\n"
     ]
    }
   ],
   "source": [
    "import os\n",
    "from net.net import net\n",
    "from keras import backend\n",
    "from utils.data import test_split, batches\n",
    "from utils.logger import Logger\n",
    "\n",
    "import warnings\n",
    "warnings.filterwarnings('ignore')\n",
    "\n",
    "TRAIN_SIZE = 0.8\n",
    "EPOCHS = 20\n",
    "\n",
    "# Split data into training and validation sets\n",
    "data_train, data_val = test_split('./data/driving_log_fixed.csv', train_size = TRAIN_SIZE)\n",
    "print(\"Initial data; train: {}, validate: {}\".format(len(data_train), len(data_val)))\n",
    "\n",
    "# Training and validating\n",
    "logits = net()\n",
    "logits.fit_generator(\n",
    "        batches(data_train),\n",
    "        samples_per_epoch = data_train.shape[0],\n",
    "        nb_epoch = EPOCHS,\n",
    "        validation_data = batches(data_val, augment = False),\n",
    "        nb_val_samples = data_val.shape[0],\n",
    "        callbacks = [Logger()],\n",
    "    )\n",
    "\n",
    "# Save model\n",
    "with open('./model/model.json', 'w') as file:\n",
    "    file.write(logits.to_json())\n",
    "\n",
    "backend.clear_session()"
   ]
  },
  {
   "cell_type": "code",
   "execution_count": null,
   "metadata": {
    "collapsed": true
   },
   "outputs": [],
   "source": []
  },
  {
   "cell_type": "code",
   "execution_count": null,
   "metadata": {
    "collapsed": true
   },
   "outputs": [],
   "source": []
  }
 ],
 "metadata": {
  "anaconda-cloud": {},
  "kernelspec": {
   "display_name": "Python 3",
   "language": "python",
   "name": "python3"
  },
  "language_info": {
   "codemirror_mode": {
    "name": "ipython",
    "version": 3
   },
   "file_extension": ".py",
   "mimetype": "text/x-python",
   "name": "python",
   "nbconvert_exporter": "python",
   "pygments_lexer": "ipython3",
   "version": "3.5.2"
  },
  "widgets": {
   "state": {},
   "version": "1.1.2"
  }
 },
 "nbformat": 4,
 "nbformat_minor": 1
}
